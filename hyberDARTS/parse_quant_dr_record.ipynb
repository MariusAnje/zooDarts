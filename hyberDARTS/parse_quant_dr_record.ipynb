{
 "metadata": {
  "language_info": {
   "codemirror_mode": {
    "name": "ipython",
    "version": 3
   },
   "file_extension": ".py",
   "mimetype": "text/x-python",
   "name": "python",
   "nbconvert_exporter": "python",
   "pygments_lexer": "ipython3",
   "version": 3
  },
  "orig_nbformat": 2,
  "kernelspec": {
   "name": "python_defaultSpec_1597019570229",
   "display_name": "Python 3.7.4 64-bit ('base': conda)"
  }
 },
 "nbformat": 4,
 "nbformat_minor": 2,
 "cells": [
  {
   "cell_type": "code",
   "execution_count": 1,
   "metadata": {},
   "outputs": [],
   "source": [
    "subspace = [[2, 3], [0, 1], [2], [1], [2],      [1], [0, 1], [2], [0, 1], [2],      [1, 3], [0, 1], [2], [1], [1, 2],      [2], [0, 1], [1], [1], [2],      [2], [0, 1], [2], [0, 1], [ 2],      [1, 2], [0], [1, 2], [1], [2]] # 1: DK\n",
    "subspace = [[2, 3], [0, 1], [1], [1], [1], [0, 1], [1], [0, 1], [0, 1], [1], [0, 1], [0], [1], [0, 1], [1], [3], [1], [0, 1], [0, 1], [1], [1, 2, 3], [0, 1], [1], [0, 1], [1], [0, 1], [0, 1], [0, 1], [0, 1], [1]] # 2: err.625 ep 120 top 5 size 3\n",
    "subspace = [[0, 3], [0, 1], [0, 1], [1], [1], [1, 3], [0, 1], [1], [0], [1], [0], [0], [1], [1], [1], [2, 3], [1], [0, 1], [1], [1], [2, 3], [0, 1], [0, 1], [0], [1], [0, 2], [0, 1], [1], [1], [1]] # err.625 ep 80 top 2 size 2\n",
    "# >>>>>> 1 rollout\n",
    "rollout_record = [0, 0, 0, 0, 3, 1, 0, 1, 0, 0, 0, 3, 1, 1, 0, 3]\n",
    "rollout_record = [1, 0, 0, 0, 2, 1, 3, 1, 0, 1, 0, 3, 0, 1, 1, 3]\n",
    "rollout_record = [0, 1, 0, 0, 3, 0, 1, 0, 0, 1, 0, 2, 0, 0, 1, 3]\n",
    "rollout_record = [1, 1, 1, 0, 3, 1, 3, 3, 0, 1, 0, 1, 1, 1, 1, 3]\n",
    "# >>>>>> 2 rollout\n",
    "rollout_record = [1, 1, 1, 0, 1, 1, 1, 0, 1, 0, 3, 1, 0, 3, 0, 1, 3, 6, 3]\n",
    "# >>>>>> 3 rollout\n",
    "rollout_record = [0, 1, 1, 0, 0, 1, 0, 0, 1, 0, 1, 0, 1, 2, 1, 0, 0, 3]\n",
    "names = ['feature.0.mix', 'feature.0.moduleList.0.mix', 'feature.0.moduleList.1.mix', 'feature.1.mix', 'feature.1.moduleList.0.mix', 'feature.3.mix', 'feature.3.moduleList.0.mix', 'feature.3.moduleList.1.mix', 'feature.4.mix', 'feature.4.moduleList.0.mix', 'feature.6.mix', 'feature.6.moduleList.0.mix', 'feature.7.mix', 'feature.7.moduleList.0.mix', 'feature.7.moduleList.1.mix']\n",
    "rollout = [0 for i in range(len(subspace))]"
   ]
  },
  {
   "cell_type": "code",
   "execution_count": 2,
   "metadata": {
    "tags": []
   },
   "outputs": [
    {
     "output_type": "stream",
     "name": "stdout",
     "text": "[0, 0, 1, 1, 1, 0, 0, 1, 0, 1, 0, 0, 1, 1, 1, 1, 1, 1, 1, 1, 0, 0, 1, 0, 1, 1, 0, 1, 1, 1]\n"
    }
   ],
   "source": [
    "def mult_space_size(subspace:list):\n",
    "    multed = 1\n",
    "    for item in subspace:\n",
    "        multed *= len(item)\n",
    "    return multed\n",
    "\n",
    "slice_point = [0]\n",
    "slice_zie   = []\n",
    "for i in range(0,len(subspace),5):\n",
    "    slice_zie.append(len(subspace[i]) + 1)\n",
    "for i in range(len(slice_zie)):\n",
    "    slice_point.append(slice_zie[i] + slice_point[i])\n",
    "\n",
    "rollout_output = []\n",
    "for i in range(len(slice_zie)):\n",
    "    op_choice = rollout_record[slice_point[i]]\n",
    "    start = i * 5\n",
    "    w_i_s = subspace[start + 1]\n",
    "    w_f_s = subspace[start + 2]\n",
    "    a_i_s = subspace[start + 3]\n",
    "    a_f_s = subspace[start + 4]\n",
    "    layer_quant_params = []\n",
    "    quant_keys = ['weight_num_int_bits','weight_num_frac_bits', 'act_num_int_bits', 'act_num_frac_bits']\n",
    "    for wi in range(len(w_i_s)):\n",
    "        for wf in range(len(w_f_s)):\n",
    "            for ai in range(len(a_i_s)):\n",
    "                for af in range(len(a_f_s)):\n",
    "                    new_quant = [w_i_s[wi], w_f_s[wf], a_i_s[ai], a_f_s[af]]\n",
    "                    layer_quant_params.append(new_quant)\n",
    "    quant_params = layer_quant_params[rollout_record[slice_point[i] + op_choice + 1]]\n",
    "    rollout_output.append(op_choice)\n",
    "    rollout_output += quant_params\n",
    "print(rollout_output)"
   ]
  },
  {
   "cell_type": "code",
   "execution_count": 5,
   "metadata": {},
   "outputs": [],
   "source": [
    "a = 1 if False else 2"
   ]
  },
  {
   "cell_type": "code",
   "execution_count": 6,
   "metadata": {},
   "outputs": [
    {
     "output_type": "execute_result",
     "data": {
      "text/plain": "2"
     },
     "metadata": {},
     "execution_count": 6
    }
   ],
   "source": [
    "a"
   ]
  },
  {
   "cell_type": "code",
   "execution_count": null,
   "metadata": {},
   "outputs": [],
   "source": []
  }
 ]
}